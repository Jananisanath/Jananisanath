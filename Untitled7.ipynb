{
  "nbformat": 4,
  "nbformat_minor": 0,
  "metadata": {
    "colab": {
      "name": "Untitled7.ipynb",
      "provenance": [],
      "collapsed_sections": [],
      "authorship_tag": "ABX9TyPvgfJNFMWHONbhox4Zd+dJ",
      "include_colab_link": true
    },
    "kernelspec": {
      "name": "python3",
      "display_name": "Python 3"
    },
    "language_info": {
      "name": "python"
    }
  },
  "cells": [
    {
      "cell_type": "markdown",
      "metadata": {
        "id": "view-in-github",
        "colab_type": "text"
      },
      "source": [
        "<a href=\"https://colab.research.google.com/github/Jananisanath/Jananisanath/blob/main/Untitled7.ipynb\" target=\"_parent\"><img src=\"https://colab.research.google.com/assets/colab-badge.svg\" alt=\"Open In Colab\"/></a>"
      ]
    },
    {
      "cell_type": "code",
      "execution_count": 42,
      "metadata": {
        "id": "ViNK2SRjJ9dD"
      },
      "outputs": [],
      "source": [
        "from sklearn.metrics import roc_curve, auc\n",
        "import matplotlib.pyplot as plt\n",
        "import random\n",
        "from matplotlib import pyplot "
      ]
    },
    {
      "cell_type": "code",
      "source": [
        "actual = [1,1,1,0,0,0]\n",
        "predictions = [0.9,0.9,0.1,0.1,0.1,0.1]"
      ],
      "metadata": {
        "id": "5eYnlvabKIEn"
      },
      "execution_count": 43,
      "outputs": []
    },
    {
      "cell_type": "code",
      "source": [
        "false_positive_rate, true_positive_rate, thresholds = roc_curve(actual, predictions)\n",
        "roc_auc = auc(false_positive_rate, true_positive_rate)"
      ],
      "metadata": {
        "id": "CEjX6TRbKLdW"
      },
      "execution_count": 44,
      "outputs": []
    },
    {
      "cell_type": "code",
      "source": [
        "#plt.title('Receiver Operating Characteristic')\n",
        "plt.plot( false_positive_rate, true_positive_rate, 'b',\n",
        "label='AUC NSLKDD=0.9991')\n",
        "plt.plot(false_positive_rate, true_positive_rate, 'r',\n",
        "label='AUC-BOT-IoT =0.9991')\n",
        "plt.plot(false_positive_rate, true_positive_rate, 'green',\n",
        "label='AUC-IOT-23 = 0.9977')\n",
        "#plt.plot(ns_fpr, ns_tpr, linestyle='--', label='Random Guess')\n",
        "plt.legend(loc='lower right')\n",
        "plt.plot([0, 1], [1, 1], color='red', linestyle='solid')\n",
        "plt.plot([0, 1], [1, 0.9993], color='blue', linestyle='solid')\n",
        "#plt.plot([0,1],[1,1],'r--', label='NSLKDD=0.9998')\n",
        "plt.xlim([-0.1,1.1])\n",
        "plt.ylim([-0.1,1.1])\n",
        "plt.ylabel('True Positive Rate')\n",
        "plt.xlabel('False Positive Rate')\n",
        "plt.show()"
      ],
      "metadata": {
        "colab": {
          "base_uri": "https://localhost:8080/",
          "height": 279
        },
        "id": "JSuwszGuKNVA",
        "outputId": "201b8452-eb59-4d1a-94c8-741d9190d3fc"
      },
      "execution_count": 47,
      "outputs": [
        {
          "output_type": "display_data",
          "data": {
            "text/plain": [
              "<Figure size 432x288 with 1 Axes>"
            ],
            "image/png": "[encoded data removed]"
          },
          "metadata": {
            "needs_background": "light"
          }
        }
      ]
    },
    {
      "cell_type": "code",
      "source": [
        ""
      ],
      "metadata": {
        "id": "wNnpNxR9YfND"
      },
      "execution_count": null,
      "outputs": []
    },
    {
      "cell_type": "code",
      "source": [
        "from sklearn.linear_model import LogisticRegression\n",
        "from sklearn.ensemble import GradientBoostingClassifier\n",
        "from sklearn import metrics\n",
        "import matplotlib.pyplot as plt\n",
        "\n",
        "plt.figure()\n",
        "\n",
        "# Add the models to the list that you want to view on the ROC plot\n",
        "models = [\n",
        "{\n",
        "    'label': 'Logistic Regression',\n",
        "    'model': LogisticRegression(),\n",
        "},\n",
        "{\n",
        "    'label': 'Gradient Boosting',\n",
        "    'model': GradientBoostingClassifier(),\n",
        "}\n",
        "]\n",
        "# Now, plot the computed values\n",
        "plt.plot(fpr, tpr, label='%s ROC (area = %0.2f)' % (m['label'], auc))\n",
        "# Custom settings for the plot \n",
        "plt.plot([0, 1], [0, 1],'r--')\n",
        "plt.xlim([0.0, 1.0])\n",
        "plt.ylim([0.0, 1.05])\n",
        "plt.xlabel('1-Specificity(False Positive Rate)')\n",
        "plt.ylabel('Sensitivity(True Positive Rate)')\n",
        "plt.title('Receiver Operating Characteristic')\n",
        "plt.legend(loc=\"lower right\")\n",
        "plt.show()   # Display"
      ],
      "metadata": {
        "colab": {
          "base_uri": "https://localhost:8080/",
          "height": 133
        },
        "id": "FsiQf39xYSzR",
        "outputId": "de23874e-52bf-4653-ab7b-bbb8b677de1c"
      },
      "execution_count": 49,
      "outputs": [
        {
          "output_type": "error",
          "ename": "IndentationError",
          "evalue": "ignored",
          "traceback": [
            "\u001b[0;36m  File \u001b[0;32m\"<ipython-input-49-a57ef1742c8a>\"\u001b[0;36m, line \u001b[0;32m20\u001b[0m\n\u001b[0;31m    plt.plot(fpr, tpr, label='%s ROC (area = %0.2f)' % (m['label'], auc))\u001b[0m\n\u001b[0m    ^\u001b[0m\n\u001b[0;31mIndentationError\u001b[0m\u001b[0;31m:\u001b[0m unexpected indent\n"
          ]
        }
      ]
    },
    {
      "cell_type": "code",
      "source": [
        "import numpy as np\n",
        "import pandas as pd\n",
        "import matplotlib.pyplot as plt\n",
        "import seaborn as sns\n",
        "# roc curve and auc score\n",
        "from sklearn.datasets import make_classification\n",
        "from sklearn.neighbors import KNeighborsClassifier\n",
        "from sklearn.ensemble import RandomForestClassifier\n",
        "from sklearn.model_selection import train_test_split\n",
        "from sklearn.metrics import roc_curve\n",
        "from sklearn.metrics import roc_auc_score"
      ],
      "metadata": {
        "id": "zkUYFNH_ZA1j"
      },
      "execution_count": 50,
      "outputs": []
    },
    {
      "cell_type": "code",
      "source": [
        "def plot_roc_curve(fpr, tpr):\n",
        "    plt.plot(fpr, tpr, color='green', label='ROC')\n",
        "    plt.plot( fpr, tpr, color='black',label='AUC NSLKDD=0.9991')\n",
        "plt.plot(fpr, tpr, color='red', label='AUC-BOT-IoT =0.9991')\n",
        "plt.plot(fpr, tpr, color='pink',label='AUC-IOT-23 = 0.9977')\n",
        "plt.plot(ns_fpr, ns_tpr, linestyle='--', label='Random Guess')\n",
        "    #plt.plot(fpr, tpr, color='yellow', label='ROC')\n",
        "    #plt.plot(fpr, tpr, color='pink', label='ROC')\n",
        "    plt.plot([0.0, 1.0], [1.0, 1.0], color='darkblue', linestyle='--')\n",
        "    plt.xlabel('False Positive Rate')\n",
        "    plt.ylabel('True Positive Rate')\n",
        "    plt.title('Receiver Operating Characteristic (ROC) Curve')\n",
        "    plt.legend()\n",
        "    plt.show()"
      ],
      "metadata": {
        "colab": {
          "base_uri": "https://localhost:8080/",
          "height": 133
        },
        "id": "SHTWKfo-ZEok",
        "outputId": "db4c060b-c398-43c5-94de-350138cfe10a"
      },
      "execution_count": 85,
      "outputs": [
        {
          "output_type": "error",
          "ename": "IndentationError",
          "evalue": "ignored",
          "traceback": [
            "\u001b[0;36m  File \u001b[0;32m\"<ipython-input-85-4da19a668aee>\"\u001b[0;36m, line \u001b[0;32m9\u001b[0m\n\u001b[0;31m    plt.plot([0.0, 1.0], [1.0, 1.0], color='darkblue', linestyle='--')\u001b[0m\n\u001b[0m    ^\u001b[0m\n\u001b[0;31mIndentationError\u001b[0m\u001b[0;31m:\u001b[0m unexpected indent\n"
          ]
        }
      ]
    },
    {
      "cell_type": "code",
      "source": [
        "data_X, class_label = make_classification(n_samples=1000, n_classes=2, weights=[1,1], random_state=1)\n"
      ],
      "metadata": {
        "id": "8YOV0ywUZIH6"
      },
      "execution_count": 72,
      "outputs": []
    },
    {
      "cell_type": "code",
      "source": [
        "trainX, testX, trainy, testy = train_test_split(data_X, class_label, test_size=0.3, random_state=1)\n"
      ],
      "metadata": {
        "id": "MFZQfJ-yZKXU"
      },
      "execution_count": 73,
      "outputs": []
    },
    {
      "cell_type": "code",
      "source": [
        "model = RandomForestClassifier()\n",
        "model.fit(trainX, trainy)"
      ],
      "metadata": {
        "colab": {
          "base_uri": "https://localhost:8080/"
        },
        "id": "fvm9xlC_ZNcI",
        "outputId": "4b2262c6-e5ad-49bd-d7b0-405d27eb6db4"
      },
      "execution_count": 74,
      "outputs": [
        {
          "output_type": "execute_result",
          "data": {
            "text/plain": [
              "RandomForestClassifier()"
            ]
          },
          "metadata": {},
          "execution_count": 74
        }
      ]
    },
    {
      "cell_type": "code",
      "source": [
        "probs = model.predict_proba(testX)"
      ],
      "metadata": {
        "id": "WeUswJ0uZRdp"
      },
      "execution_count": 75,
      "outputs": []
    },
    {
      "cell_type": "code",
      "source": [
        "probs = probs[:, 1]"
      ],
      "metadata": {
        "id": "JSESZrWKZT_q"
      },
      "execution_count": 76,
      "outputs": []
    },
    {
      "cell_type": "code",
      "source": [
        "auc = roc_auc_score(testy, probs)\n",
        "print('AUC: %.2f' % auc)"
      ],
      "metadata": {
        "colab": {
          "base_uri": "https://localhost:8080/"
        },
        "id": "XTY8AKELZXkF",
        "outputId": "62c6270e-f95b-4f28-8f5e-a6a4f769a943"
      },
      "execution_count": 77,
      "outputs": [
        {
          "output_type": "stream",
          "name": "stdout",
          "text": [
            "AUC: 0.96\n"
          ]
        }
      ]
    },
    {
      "cell_type": "code",
      "source": [
        "fpr, tpr, thresholds = roc_curve(testy, probs)"
      ],
      "metadata": {
        "id": "N7J1zGY3Zcc6"
      },
      "execution_count": 78,
      "outputs": []
    },
    {
      "cell_type": "code",
      "source": [
        "plot_roc_curve(fpr, tpr)"
      ],
      "metadata": {
        "colab": {
          "base_uri": "https://localhost:8080/",
          "height": 295
        },
        "id": "qJnZL-vQZe3t",
        "outputId": "68e094b6-6469-4109-b918-a6d625d0c538"
      },
      "execution_count": 83,
      "outputs": [
        {
          "output_type": "display_data",
          "data": {
            "text/plain": [
              "<Figure size 432x288 with 1 Axes>"
            ],
            "image/png": "[encoded data removed]"
          },
          "metadata": {
            "needs_background": "light"
          }
        }
      ]
    }
  ]
}